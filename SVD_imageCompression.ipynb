{
 "cells": [
  {
   "cell_type": "markdown",
   "metadata": {},
   "source": [
    "### Theory of SVD\n",
    "\n",
    "Singular Value Decomposition (SVD) is a fundamental matrix factorization technique in linear algebra. It decomposes any  m x n matrix  A  into three specific matrices:\n",
    "\n",
    "A = U Σ V^T \n",
    "\n",
    "where:\n",
    "\n",
    "1. U: An  m x m  orthogonal matrix.\n",
    "   - The columns of  U  are the left singular vectors of  A .\n",
    "   - These vectors form an orthonormal basis for the column space of  A .\n",
    "\n",
    "2.  Σ : An  m x n  diagonal matrix (or a matrix with zeros beyond the diagonal).\n",
    "   - The diagonal entries of  Σ  are the singular values of  A , which are non-negative and typically arranged in descending order.\n",
    "   - Singular values represent the \"weight\" of each corresponding singular vector.\n",
    "\n",
    "3.  V^T : An  n x n  orthogonal matrix (V Transpose).\n",
    "   - The rows of  V^T  are the right singular vectors of  A .\n",
    "   - These vectors form an orthonormal basis for the row space of  A .\n",
    "   - The matrices  U  and  V  are orthogonal, meaning  U^T U = I  and  V^T V = I , where  I  is the identity matrix. This ensures that  U  and  V  are composed of orthonormal vectors.\n",
    "\n",
    "\n",
    "### Applications:\n",
    "\n",
    "SVD is widely used in signal processing, data compression (e.g., image compression), noise reduction, and dimensionality reduction techniques such as Principal Component Analysis (PCA). It provides a way to analyze the structure of matrices and solve various problems in numerical linear algebra and statistics.\n"
   ]
  },
  {
   "cell_type": "markdown",
   "metadata": {},
   "source": [
    "### SVD Implementation from Scratch\n",
    "The below code involves calculating the V, U and Sigma matrices as per the usual method of calculating them. To calculate the eigenvectors and eigenvalues, an in-built function was used but the rest of the process is procedural. The matrices are then multiplied to verify if the original matrix A is given or not.\n",
    "\n",
    "The computation time is also calculated."
   ]
  },
  {
   "cell_type": "code",
   "execution_count": 25,
   "metadata": {},
   "outputs": [
    {
     "name": "stdout",
     "output_type": "stream",
     "text": [
      "U Matrix\n",
      "[[-0.48780251 -0.87295402]\n",
      " [-0.87295402  0.48780251]]\n",
      "Sigma\n",
      "[[6.10445227 0.         0.        ]\n",
      " [0.         2.59531549 0.        ]]\n",
      "V^T\n",
      "[[-0.52573358 -0.30282144 -0.7949235 ]\n",
      " [-0.63316273 -0.48476015  0.6034174 ]\n",
      " [ 0.56807496 -0.82055272 -0.06311944]]\n",
      "[[-2.97776713 -2.26559108  0.        ]\n",
      " [-5.32890612  1.2660014   0.        ]]\n",
      "A_reconstructed\n",
      "[[3. 2. 1.]\n",
      " [2. 1. 5.]]\n",
      "Time Taken = 0.649199999315897 ms\n"
     ]
    }
   ],
   "source": [
    "import numpy as np\n",
    "import time\n",
    "\n",
    "def SVD(A):\n",
    "    #V\n",
    "    ATransA = np.dot(A.T, A)\n",
    "\n",
    "    eig_V, V = np.linalg.eig(ATransA)  \n",
    "    eig_V_sorted_indices = np.argsort(eig_V)[::-1]\n",
    "\n",
    "    V1 = V[:, eig_V_sorted_indices]\n",
    "    eig_V1 = eig_V[eig_V_sorted_indices]\n",
    "\n",
    "    #U\n",
    "    AATrans = np.dot(A, A.T)\n",
    "\n",
    "    eig_U, U = np.linalg.eig(AATrans)\n",
    "    eig_U_sorted_indices = np.argsort(eig_U)[::-1]\n",
    "\n",
    "    U1 = U[:, eig_U_sorted_indices]\n",
    "    eig_U1 = eig_U[eig_U_sorted_indices]\n",
    "\n",
    "    #Sigma\n",
    "    Sigma = np.zeros_like(A, dtype=float)\n",
    "    for i in np.arange(min(A.shape)):\n",
    "        Sigma[i, i] = np.sqrt(eig_V1[i])    \n",
    "    \n",
    "    return U1, Sigma, V1.T\n",
    "\n",
    "A = np.array([[3, 2, 1], [2, 1, 5]])\n",
    "# A = np.array([[4, 2, 0], [1, 5, 6]])\n",
    "\n",
    "# print(A)\n",
    "start_time = time.perf_counter()\n",
    "U, Sigma, VT = SVD(A)\n",
    "end_time = time.perf_counter()\n",
    "\n",
    "print(\"U Matrix\")\n",
    "print(U)\n",
    "print(\"Sigma\")\n",
    "print(Sigma)\n",
    "print(\"V^T\")\n",
    "print(VT)\n",
    "\n",
    "u_sigma = np.dot(U, Sigma)\n",
    "print(u_sigma)\n",
    "\n",
    "A_reconstructed = U @ Sigma @ VT\n",
    "print(\"A_reconstructed\")\n",
    "print(A_reconstructed)\n",
    "\n",
    "print(f\"Time Taken = {(end_time - start_time)*1e3} ms\")"
   ]
  },
  {
   "cell_type": "markdown",
   "metadata": {},
   "source": [
    "### Comparing with in-built function\n",
    "The above code output is now compared with the SVD function provided in NumPy's Linear Algebra library. The outputs match.\n",
    "\n",
    "The computation time is considerable less with the inbuilt function than the manual implementation."
   ]
  },
  {
   "cell_type": "code",
   "execution_count": 22,
   "metadata": {},
   "outputs": [
    {
     "name": "stdout",
     "output_type": "stream",
     "text": [
      "[[-0.6 -0.8]\n",
      " [-0.8  0.6]] [5.47722558 2.23606798] [[-0.62075223 -0.36514837 -0.69378191]\n",
      " [-0.53665631 -0.4472136   0.71554175]\n",
      " [-0.57154761  0.81649658  0.08164966]]\n",
      "Time Taken = 0.2015999998548068 ms\n"
     ]
    }
   ],
   "source": [
    "A = np.array([[3, 2, 1], [2, 1, 4]])\n",
    "\n",
    "start_time = time.perf_counter()\n",
    "U, Sigma, VT = np.linalg.svd(A)\n",
    "end_time = time.perf_counter()\n",
    "\n",
    "print(U, Sigma, VT)\n",
    "print(f\"Time Taken = {(end_time - start_time)*1e3} ms\")"
   ]
  },
  {
   "cell_type": "markdown",
   "metadata": {},
   "source": [
    "### Image Compression and Quality Enhancement\n",
    "\n",
    "The below code uses the above SVD function to compress images. Various values of k are chosen to compare the compression and quality. The top k singular values of U, Sigma and V^T are taken and the image matrix is constructed using these. Then it is saved as an image."
   ]
  },
  {
   "cell_type": "code",
   "execution_count": 36,
   "metadata": {},
   "outputs": [
    {
     "name": "stdout",
     "output_type": "stream",
     "text": [
      "(1500, 1000)\n"
     ]
    },
    {
     "name": "stderr",
     "output_type": "stream",
     "text": [
      "C:\\Users\\Aroshish\\AppData\\Local\\Temp\\ipykernel_18588\\1107230438.py:16: ComplexWarning: Casting complex values to real discards the imaginary part\n",
      "  A_k = np.clip(A_k, 0, 255).astype(np.uint8)\n"
     ]
    }
   ],
   "source": [
    "from PIL import Image\n",
    "\n",
    "def compress_image(path, k):\n",
    "    image = Image.open(path).convert('L')\n",
    "    A = np.array(image, dtype=float)\n",
    "    # print(A.shape)\n",
    "\n",
    "    U, Sigma, Vt = SVD(A)\n",
    "    \n",
    "    U_k = U[:, :k]\n",
    "    Sigma_k = Sigma[:k, :k]\n",
    "    Vt_k = Vt[:k, :]\n",
    "\n",
    "    A_k = U_k @ Sigma_k @ Vt_k\n",
    "\n",
    "    A_k = np.clip(A_k, 0, 255).astype(np.uint8)\n",
    "\n",
    "    # compressed_image = Image.fromarray(A_k)\n",
    "    # compressed_image.save(f\"compressed_k_{k}.jpg\")\n",
    "    # compressed_image.show()\n",
    "    compressed_image_name = f\"compressed1_k_{k}.jpg\"\n",
    "    compressed_image = Image.fromarray(A_k)\n",
    "    compressed_image.save(compressed_image_name, \"JPEG\", quality = 20)\n",
    "\n",
    "# compress_image('quality.jpeg', 50)\n",
    "compress_image('quality1.jpeg', 1000)"
   ]
  },
  {
   "cell_type": "markdown",
   "metadata": {},
   "source": [
    "### Report on Findings\n",
    "\n",
    "##### Overview\n",
    "Singular Value Decomposition (SVD) is a powerful mathematical tool for dimensionality reduction and data compression. In this report, we investigate the effects of compressing images using SVD by retaining only a subset of the singular values and corresponding vectors. We explore different values of k (number of singular values kept), and observe the trade-offs between image quality and file size.\n",
    "\n",
    "##### Methodology\n",
    "1. SVD Application: For each image, we decompose it using SVD into matrices U, Sigma and V^T. By keeping only the top k singular values and their corresponding vectors, we reconstructed a compressed version of the image.\n",
    "2. Image Reconstruction: We reconstruct the image using the reduced matrices and save the results as JPG.\n",
    "3. Comparison: We compare the reconstructed images with the original image for various values of k. We use visual inspection and file size metrics to assess the quality of the compressed images.\n",
    "\n",
    "Values of k: 50, 100, 200, 500, 1000\n",
    "\n",
    "##### Observations\n",
    "1. Quality vs k Value:\n",
    "* Low k Values (e.g. 50): The compressed images show significant loss of detail. Important features and fine textures are often blurred or lost, resulting in loss of image quality.\n",
    "* Moderate k Values (e.g. 100, 200): As k increases, more details are preserved. The images appear clearer with fewer artifacts, but some loss of fine detail are still present.\n",
    "* High k Values (e.g., 500, 1000): The images closely resemble the original with minimal perceptible loss of quality. The reconstruction retains most of the details and textures, showing a clear trade-off between compression and fidelity.\n",
    "\n",
    "2. File Size:\n",
    "\n",
    "* Low k Values: Smaller file sizes due to higher compression, but accompanied by significant quality loss.\n",
    "* Higher k Values: Larger file sizes but improved image quality. The size increase is proportional to the number of singular values retained.\n",
    "\n",
    "\n",
    "##### Trade-Offs\n",
    "Compression Ratio: Lower k values provide higher compression ratios but at the cost of image quality. Higher k values reduce compression but retain more detail.\n",
    "\n",
    "Quality: The visual quality of the image improves as k increases, with a more accurate representation of the original image. However, the file size also increases with k.\n",
    "\n",
    "##### Conclusion\n",
    "The choice of k in SVD-based image compression involves a trade-off between compression ratio and image quality. Lower k values offer greater compression but reduce image clarity. Higher k values retain more detail, resulting in higher quality images but with larger file sizes. For practical applications, the choice of k should balance the need for compression with the acceptable level of image quality loss."
   ]
  },
  {
   "cell_type": "markdown",
   "metadata": {},
   "source": []
  }
 ],
 "metadata": {
  "kernelspec": {
   "display_name": "my_env",
   "language": "python",
   "name": "python3"
  },
  "language_info": {
   "codemirror_mode": {
    "name": "ipython",
    "version": 3
   },
   "file_extension": ".py",
   "mimetype": "text/x-python",
   "name": "python",
   "nbconvert_exporter": "python",
   "pygments_lexer": "ipython3",
   "version": "3.12.1"
  }
 },
 "nbformat": 4,
 "nbformat_minor": 2
}
